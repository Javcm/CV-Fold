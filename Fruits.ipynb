{
 "cells": [
  {
   "cell_type": "code",
   "execution_count": 1,
   "metadata": {},
   "outputs": [],
   "source": [
    "import numpy as np\n",
    "import pandas as pd\n",
    "import seaborn as sns; sns.set()\n",
    "from sklearn.svm import SVC"
   ]
  },
  {
   "cell_type": "code",
   "execution_count": 7,
   "metadata": {},
   "outputs": [],
   "source": [
    "import matplotlib.pylab as plt\n",
    "import numpy as np\n",
    "import cv2\n",
    "import os\n",
    "import glob\n",
    "from mpl_toolkits.mplot3d import Axes3D  \n",
    "import matplotlib.pyplot as plt\n",
    "import seaborn as sns; sns.set()\n",
    "from colormap import rgb2hex\n",
    "import pandas as pd\n",
    "from sklearn.decomposition import PCA\n",
    "import matplotlib.image as mpimg\n",
    "from skimage import color"
   ]
  },
  {
   "cell_type": "code",
   "execution_count": 29,
   "metadata": {},
   "outputs": [],
   "source": [
    "img_dir = \"./data_fruits_tarea\" \n",
    "data_path = os.path.join(img_dir,'*g')\n",
    "files = glob.glob(data_path)\n",
    "data = []\n",
    "B,G,R=[],[],[]\n",
    "im_m=np.zeros((np.shape(files)[0],3))\n",
    "for i,f1 in enumerate(files):\n",
    "    img = cv2.imread(f1)\n",
    "    #b=cv2.split(img)\n",
    "    R.append(cv2.split(img)[0])\n",
    "    G.append(cv2.split(img)[1])\n",
    "    B.append(cv2.split(img)[2])\n",
    "    im_m[i,0]=np.median(img[:,:,0])   #medianR\n",
    "    im_m[i,1]=np.median(img[:,:,1])   #medianG\n",
    "    im_m[i,2]=np.median(img[:,:,2])   #medianB\n",
    "    RGB_img = cv2.cvtColor(img, cv2.COLOR_BGR2RGB)\n",
    "    data.append(RGB_img)\n",
    "\n",
    "    "
   ]
  },
  {
   "cell_type": "code",
   "execution_count": 19,
   "metadata": {},
   "outputs": [
    {
     "name": "stdout",
     "output_type": "stream",
     "text": [
      "(1300,) (1, 1300)\n"
     ]
    }
   ],
   "source": [
    "print(np.shape(files),np.shape(files2))"
   ]
  },
  {
   "cell_type": "code",
   "execution_count": 8,
   "metadata": {},
   "outputs": [],
   "source": [
    "#Matriz de cuantiles\n",
    "img_dir = \"./data_fruits_tarea\" \n",
    "data_path = os.path.join(img_dir,'*g')\n",
    "files = glob.glob(data_path)\n",
    "im_hsv=np.zeros((len(files),9))\n",
    "for i,f1 in enumerate(files):\n",
    "    im = mpimg.imread(f1)\n",
    "    hsv = color.rgb2hsv(im)\n",
    "    \n",
    "    im_h=hsv[:,:,0]\n",
    "    q_h1=np.quantile(im_h, 0.25)\n",
    "    q_h2=np.quantile(im_h, 0.5)\n",
    "    q_h3=np.quantile(im_h, 0.75)\n",
    "    \n",
    "    im_s=hsv[:,:,1]\n",
    "    q_s1=np.quantile(im_s, 0.25)\n",
    "    q_s2=np.quantile(im_s, 0.5)\n",
    "    q_s3=np.quantile(im_s, 0.75)\n",
    "    \n",
    "    im_v=hsv[:,:,2]\n",
    "    q_v1=np.quantile(im_v, 0.25)\n",
    "    q_v2=np.quantile(im_v, 0.5)\n",
    "    q_v3=np.quantile(im_v, 0.75)\n",
    "    \n",
    "    im_hsv[i,0]=q_h1\n",
    "    im_hsv[i,1]=q_h2\n",
    "    im_hsv[i,2]=q_h3\n",
    "    im_hsv[i,3]=q_s1\n",
    "    im_hsv[i,4]=q_s2\n",
    "    im_hsv[i,5]=q_s3\n",
    "    im_hsv[i,6]=q_v1\n",
    "    im_hsv[i,7]=q_v2\n",
    "    im_hsv[i,8]=q_v3"
   ]
  },
  {
   "cell_type": "code",
   "execution_count": null,
   "metadata": {},
   "outputs": [],
   "source": []
  },
  {
   "cell_type": "code",
   "execution_count": 10,
   "metadata": {},
   "outputs": [],
   "source": [
    "import pandas as pd\n",
    "labels=np.reshape([[0]*100,[1]*100,[2]*100,[3]*100,[4]*100,[5]*100,[6]*100,[7]*100,[8]*100,[9]*100,[10]*100,[11]*100,[12]*100],(1300))\n",
    "df=pd.DataFrame(np.array([im_hsv[:,0],im_hsv[:,1],im_hsv[:,2],im_hsv[:,3],im_hsv[:,4],im_hsv[:,5],im_hsv[:,6],\n",
    "                       im_hsv[:,7],im_hsv[:,8],labels.astype(int)]))\n",
    "df=df.T\n",
    "df.columns=[\"q_h1\",\"q_h2\",\"q_h3\",\"q_s1\",\"q_s2\",\"q_s3\",\"q_v1\",\"q_v2\",\"q_v3\",\"labels\"]"
   ]
  },
  {
   "cell_type": "code",
   "execution_count": 18,
   "metadata": {},
   "outputs": [],
   "source": [
    "train=df.sample(n=1000, random_state=1)\n",
    "test=df.drop(train.index)\n",
    "x_tra=train[train.columns[0:9]]\n",
    "y_train=train[\"labels\"]\n",
    "x_te=train[test.columns[0:9]]\n",
    "y_te=test[\"labels\"]"
   ]
  },
  {
   "cell_type": "markdown",
   "metadata": {},
   "source": [
    "# Máquina de soporte vectorial"
   ]
  },
  {
   "cell_type": "code",
   "execution_count": 27,
   "metadata": {},
   "outputs": [
    {
     "name": "stderr",
     "output_type": "stream",
     "text": [
      "C:\\Users\\javie\\Anaconda3\\lib\\site-packages\\sklearn\\model_selection\\_search.py:814: DeprecationWarning: The default of the `iid` parameter will change from True to False in version 0.22 and will be removed in 0.24. This will change numeric results when test-set sizes are unequal.\n",
      "  DeprecationWarning)\n"
     ]
    },
    {
     "name": "stdout",
     "output_type": "stream",
     "text": [
      "Best score: 1.0\n",
      "Best C: 10\n",
      "Best Kernel: rbf\n",
      "Best Gamma: 10\n"
     ]
    }
   ],
   "source": [
    "from sklearn.model_selection import GridSearchCV\n",
    "# El grid de parámetros lo definimos como un diccionario\n",
    "parameters = [\n",
    "  {'C': [0.001, 0.01, 0.1, 1, 10, 100], 'kernel': ['linear']},\n",
    "  {'C': [0.001, 0.01, 0.1, 1, 10, 100], 'gamma': [0.001, 0.01, 0.1, 1, 10, 100], 'kernel': ['rbf']},\n",
    "]\n",
    "# Realiza Grid Search\n",
    "cvfolds = 5\n",
    "GS = GridSearchCV(estimator=SVC(), param_grid=parameters, cv = cvfolds, return_train_score=True, n_jobs=-1)\n",
    "GS.fit(x_tra,y_train)\n",
    "\n",
    "print('Best score:', GS.best_score_) \n",
    "print('Best C:',GS.best_estimator_.C) \n",
    "print('Best Kernel:',GS.best_estimator_.kernel)\n",
    "print('Best Gamma:',GS.best_estimator_.gamma)"
   ]
  },
  {
   "cell_type": "code",
   "execution_count": 28,
   "metadata": {},
   "outputs": [
    {
     "data": {
      "image/png": "[encoded data removed]",
      "text/plain": [
       "<Figure size 864x432 with 1 Axes>"
      ]
     },
     "metadata": {},
     "output_type": "display_data"
    }
   ],
   "source": [
    "scores_mean = GS.cv_results_['mean_test_score']\n",
    "scores_sd = GS.cv_results_['std_test_score']\n",
    "scores_mean_tr = GS.cv_results_['mean_train_score']\n",
    "scores_sd_tr = GS.cv_results_['std_train_score']\n",
    "plt.style.use('seaborn-whitegrid')\n",
    "x_ax = list(range(0,len(scores_mean)))\n",
    "plt.rcParams['figure.figsize'] = (12, 6)\n",
    "plt.fill_between(x_ax, scores_mean - scores_sd, scores_mean + scores_sd, alpha=0.1, color='blue')\n",
    "plt.plot(x_ax, scores_mean, color='black',label='test')\n",
    "plt.scatter(np.argmax(scores_mean), scores_mean[np.argmax(scores_mean),], s=300, linewidth=2, facecolors = 'none', edgecolors='red')\n",
    "plt.errorbar(x_ax, scores_mean_tr, yerr=scores_sd_tr, fmt='-o', color='gray', ecolor='gray',label='train')\n",
    "plt.xlabel('Modelo',size=15)\n",
    "plt.ylabel('Score',size=15)\n",
    "plt.suptitle('Grid Search CV',size=20)\n",
    "plt.legend(loc=\"best\");"
   ]
  },
  {
   "cell_type": "markdown",
   "metadata": {},
   "source": [
    "# Regresión Logística"
   ]
  },
  {
   "cell_type": "code",
   "execution_count": 21,
   "metadata": {},
   "outputs": [
    {
     "name": "stderr",
     "output_type": "stream",
     "text": [
      "C:\\Users\\javie\\Anaconda3\\lib\\site-packages\\sklearn\\model_selection\\_search.py:814: DeprecationWarning: The default of the `iid` parameter will change from True to False in version 0.22 and will be removed in 0.24. This will change numeric results when test-set sizes are unequal.\n",
      "  DeprecationWarning)\n",
      "C:\\Users\\javie\\Anaconda3\\lib\\site-packages\\sklearn\\linear_model\\logistic.py:469: FutureWarning: Default multi_class will be changed to 'auto' in 0.22. Specify the multi_class option to silence this warning.\n",
      "  \"this warning.\", FutureWarning)\n",
      "C:\\Users\\javie\\Anaconda3\\lib\\site-packages\\sklearn\\linear_model\\logistic.py:947: ConvergenceWarning: lbfgs failed to converge. Increase the number of iterations.\n",
      "  \"of iterations.\", ConvergenceWarning)\n",
      "C:\\Users\\javie\\Anaconda3\\lib\\site-packages\\sklearn\\linear_model\\logistic.py:947: ConvergenceWarning: lbfgs failed to converge. Increase the number of iterations.\n",
      "  \"of iterations.\", ConvergenceWarning)\n",
      "C:\\Users\\javie\\Anaconda3\\lib\\site-packages\\sklearn\\linear_model\\logistic.py:947: ConvergenceWarning: lbfgs failed to converge. Increase the number of iterations.\n",
      "  \"of iterations.\", ConvergenceWarning)\n",
      "C:\\Users\\javie\\Anaconda3\\lib\\site-packages\\sklearn\\linear_model\\logistic.py:947: ConvergenceWarning: lbfgs failed to converge. Increase the number of iterations.\n",
      "  \"of iterations.\", ConvergenceWarning)\n",
      "C:\\Users\\javie\\Anaconda3\\lib\\site-packages\\sklearn\\linear_model\\logistic.py:947: ConvergenceWarning: lbfgs failed to converge. Increase the number of iterations.\n",
      "  \"of iterations.\", ConvergenceWarning)\n",
      "C:\\Users\\javie\\Anaconda3\\lib\\site-packages\\sklearn\\linear_model\\logistic.py:947: ConvergenceWarning: lbfgs failed to converge. Increase the number of iterations.\n",
      "  \"of iterations.\", ConvergenceWarning)\n"
     ]
    },
    {
     "name": "stdout",
     "output_type": "stream",
     "text": [
      "Best score: 0.965\n",
      "Best C: 100\n",
      "Best solver: lbfgs\n"
     ]
    }
   ],
   "source": [
    "from sklearn.model_selection import GridSearchCV\n",
    "from sklearn.linear_model import LogisticRegression\n",
    "\n",
    "# El grid de parámetros lo definimos como un diccionario\n",
    "parameters = [\n",
    "    {'C': [0.01, 0.1, 1, 10, 100], \"solver\": [\"lbfgs\",\"newton-cg\",\"sag\",\"saga\"]},\n",
    "]\n",
    "# Realiza Grid Search\n",
    "cvfolds = 5\n",
    "GS = GridSearchCV(estimator=LogisticRegression(), param_grid=parameters, cv = cvfolds, return_train_score=True, n_jobs=-1)\n",
    "GS.fit(x_tra,y_train)\n",
    "\n",
    "print('Best score:', GS.best_score_) \n",
    "print('Best C:',GS.best_estimator_.C) \n",
    "print('Best solver:',GS.best_estimator_.solver)"
   ]
  },
  {
   "cell_type": "markdown",
   "metadata": {},
   "source": [
    "# Árboles de clasificación"
   ]
  },
  {
   "cell_type": "code",
   "execution_count": 22,
   "metadata": {},
   "outputs": [
    {
     "name": "stderr",
     "output_type": "stream",
     "text": [
      "C:\\Users\\javie\\Anaconda3\\lib\\site-packages\\sklearn\\model_selection\\_search.py:814: DeprecationWarning: The default of the `iid` parameter will change from True to False in version 0.22 and will be removed in 0.24. This will change numeric results when test-set sizes are unequal.\n",
      "  DeprecationWarning)\n"
     ]
    },
    {
     "name": "stdout",
     "output_type": "stream",
     "text": [
      "Best score: 0.994\n",
      "Best depth: 9\n",
      "Best samples_split: 2\n",
      "Best criterion: gini\n"
     ]
    }
   ],
   "source": [
    "from sklearn.tree import DecisionTreeClassifier\n",
    "\n",
    "# El grid de parámetros lo definimos como un diccionario\n",
    "parameters = [\n",
    "    {'max_depth': np.arange(1, 20), 'min_samples_split': [2, 3, 4], \"criterion\": [\"entropy\",\"gini\"]}\n",
    "]\n",
    "\n",
    "# Realiza Grid Search\n",
    "cvfolds = 5\n",
    "GS = GridSearchCV(estimator=DecisionTreeClassifier(random_state=42), param_grid=parameters, cv = cvfolds, return_train_score=True, n_jobs=-1)\n",
    "GS.fit(x_tra,y_train)\n",
    "\n",
    "print('Best score:', GS.best_score_) \n",
    "print('Best depth:',GS.best_estimator_.max_depth)\n",
    "print('Best samples_split:',GS.best_estimator_.min_samples_split)\n",
    "print('Best criterion:',GS.best_estimator_.criterion)\n",
    "\n"
   ]
  },
  {
   "cell_type": "markdown",
   "metadata": {},
   "source": [
    "# Ada boost"
   ]
  },
  {
   "cell_type": "code",
   "execution_count": 24,
   "metadata": {},
   "outputs": [
    {
     "name": "stdout",
     "output_type": "stream",
     "text": [
      "Best score: 0.994\n"
     ]
    },
    {
     "data": {
      "text/plain": [
       "{'n_estimators': 21}"
      ]
     },
     "execution_count": 24,
     "metadata": {},
     "output_type": "execute_result"
    }
   ],
   "source": [
    "from sklearn.model_selection import GridSearchCV\n",
    "from sklearn.tree import DecisionTreeClassifier\n",
    "from sklearn.ensemble import AdaBoostClassifier\n",
    "\n",
    "\n",
    "parameters = {'n_estimators': np.arange(1,1000,10)}\n",
    "\n",
    "DTC = DecisionTreeClassifier(random_state = 42,max_depth=9\n",
    "                             ,min_samples_split=2,criterion=\"gini\")\n",
    "ABC = AdaBoostClassifier(base_estimator = DTC)\n",
    "\n",
    "# Realiza Grid Search\n",
    "cvfolds = 5\n",
    "GS = GridSearchCV(estimator=ABC, param_grid=parameters, cv = cvfolds, return_train_score=True, n_jobs=-1)\n",
    "GS.fit(x_tra,y_train)\n",
    "print('Best score:', GS.best_score_) \n",
    "GS.best_params_"
   ]
  },
  {
   "cell_type": "markdown",
   "metadata": {},
   "source": [
    "# MLP Classifier"
   ]
  },
  {
   "cell_type": "code",
   "execution_count": 25,
   "metadata": {},
   "outputs": [
    {
     "name": "stderr",
     "output_type": "stream",
     "text": [
      "C:\\Users\\javie\\Anaconda3\\lib\\site-packages\\sklearn\\model_selection\\_search.py:814: DeprecationWarning: The default of the `iid` parameter will change from True to False in version 0.22 and will be removed in 0.24. This will change numeric results when test-set sizes are unequal.\n",
      "  DeprecationWarning)\n"
     ]
    },
    {
     "name": "stdout",
     "output_type": "stream",
     "text": [
      "Best score: 0.998\n"
     ]
    },
    {
     "data": {
      "text/plain": [
       "{'alpha': 0.001, 'hidden_layer_sizes': 14, 'max_iter': 1000}"
      ]
     },
     "execution_count": 25,
     "metadata": {},
     "output_type": "execute_result"
    }
   ],
   "source": [
    "from sklearn.model_selection import GridSearchCV\n",
    "from sklearn.neural_network import MLPClassifier\n",
    "\n",
    "parameters = {'max_iter': np.arange(1000,2000,200), \n",
    "              'alpha': 10.0 ** -np.arange(1, 6),'hidden_layer_sizes':np.arange(10, 15)\n",
    "             }\n",
    "\n",
    "# Realiza Grid Search\n",
    "cvfolds = 5\n",
    "GS = GridSearchCV(MLPClassifier(solver='lbfgs',random_state=42), cv=cvfolds, param_grid=parameters, n_jobs=-1)\n",
    "GS.fit(x_tra,y_train)\n",
    "print('Best score:', GS.best_score_) \n",
    "GS.best_params_"
   ]
  },
  {
   "cell_type": "code",
   "execution_count": null,
   "metadata": {},
   "outputs": [],
   "source": []
  }
 ],
 "metadata": {
  "kernelspec": {
   "display_name": "Python 3",
   "language": "python",
   "name": "python3"
  },
  "language_info": {
   "codemirror_mode": {
    "name": "ipython",
    "version": 3
   },
   "file_extension": ".py",
   "mimetype": "text/x-python",
   "name": "python",
   "nbconvert_exporter": "python",
   "pygments_lexer": "ipython3",
   "version": "3.7.4"
  }
 },
 "nbformat": 4,
 "nbformat_minor": 2
}
